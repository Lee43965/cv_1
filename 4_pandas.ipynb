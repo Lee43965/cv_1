{
 "cells": [
  {
   "cell_type": "code",
   "execution_count": null,
   "metadata": {},
   "outputs": [],
   "source": [
    "import pandas as pd\n",
    "#pandas是python的一个扩展程序库，用于数据分析\n",
    "#基础是numpy学习本节之前先学习numpy\n",
    "#pandas可以对数据进行操作  比如归并，再成形，选择，还有数据清洗和数据加工特征"
   ]
  },
  {
   "cell_type": "code",
   "execution_count": null,
   "metadata": {},
   "outputs": [],
   "source": [
    "#pandas两大数据结构\n",
    "#series\n",
    "#类似表格的列 一维数组 由索引（index）和列组成 函数如下\n",
    "pd.Series(data,index,dtype,name,copy)\n",
    "#data是数据\n",
    "#index索引标签，不指定默认从0开始\n",
    "#dtype数据类型 默认会自己判断\n",
    "#copy 拷贝数据，默认是false\n"
   ]
  },
  {
   "cell_type": "code",
   "execution_count": null,
   "metadata": {},
   "outputs": [],
   "source": [
    "#索引的差距\n",
    "a = [1,2,35]\n",
    "var = pd.Series(a)\n",
    "print(var)\n",
    "var = pd.Series(a,index=['x','y','z'])\n",
    "print(var)"
   ]
  },
  {
   "cell_type": "code",
   "execution_count": null,
   "metadata": {},
   "outputs": [],
   "source": [
    "#字典的操作\n",
    "size = {1:'fir',2:'sec',3:'thi'}\n",
    "var=pd.Series(size)\n",
    "print(var)\n",
    "#用索引输出部分\n",
    "var=pd.Series(size,index=[1,3],name='ceshi')\n",
    "#name起名\n",
    "print(var)"
   ]
  },
  {
   "cell_type": "code",
   "execution_count": null,
   "metadata": {},
   "outputs": [],
   "source": [
    "#dataframe大致雷同，series表示的是一列，dataframe表示的是一个表格 既有行又有列 index表示的是列，从上到下，columns表示行索引，从左到右\n",
    "pd.DataFrame(data,index,columns,dtype,copy)\n"
   ]
  },
  {
   "cell_type": "code",
   "execution_count": null,
   "metadata": {},
   "outputs": [],
   "source": [
    "data=[['first',1],['two',2],['third',3]]\n",
    "df = pd.DataFrame(data,columns=['english','math']) #输出英文和数字\n",
    "print(df) "
   ]
  },
  {
   "cell_type": "code",
   "execution_count": null,
   "metadata": {},
   "outputs": [],
   "source": [
    "#简单应用 csv文件处理 shuju中的基于决策树的英雄联盟胜负预测就是该类文件\n",
    "#csv表示逗号分隔值，分割为， 存储数字和文本，用excel表格打开会排版为表格\n",
    "#json是java的一类文件不多赘述，类似于xml\n",
    "df = pd.read_csv('./shuju/基于决策树的英雄联盟胜负预测/high_diamond_ranked_10min.csv')\n",
    "print(df)\n",
    "#解释一下输出默认是前五条和后五条"
   ]
  },
  {
   "cell_type": "code",
   "execution_count": null,
   "metadata": {},
   "outputs": [],
   "source": [
    "#如何只看前面几行\n",
    "print(df.head(3))\n",
    "#后几行\n",
    "print(df.tail(3))\n",
    "#info\n",
    "print(df.info())\n",
    "#json文件可以自己加几个跑一下，后面项目遇到会再展示 要导入json包"
   ]
  },
  {
   "cell_type": "code",
   "execution_count": 32,
   "metadata": {},
   "outputs": [
    {
     "name": "stdout",
     "output_type": "stream",
     "text": [
      "  englist  math test test2\n",
      "0   first     1   10   100\n",
      "1  second   NaN    e     w\n",
      "2       3     3    3    ——\n",
      "3    four  four    _     4\n",
      "4    five     5  NaN  five\n"
     ]
    }
   ],
   "source": [
    "import pandas as pd\n",
    "#pandas数据清洗\n",
    "cl = pd.read_excel('./shuju/clean/clean.xls')\n",
    "#有报错可以找一下gtp或者自己看一下报错 我换成读excel表格 这个是自己临时写的 如果无法读入是少了xlrd和openpyxl库\n",
    "print(cl)"
   ]
  },
  {
   "cell_type": "code",
   "execution_count": 34,
   "metadata": {},
   "outputs": [
    {
     "name": "stdout",
     "output_type": "stream",
     "text": [
      "0       1\n",
      "1     NaN\n",
      "2       3\n",
      "3    four\n",
      "4       5\n",
      "Name: math, dtype: object\n",
      "0    False\n",
      "1     True\n",
      "2    False\n",
      "3    False\n",
      "4    False\n",
      "Name: math, dtype: bool\n"
     ]
    }
   ],
   "source": [
    "#使用dropna()方法清洗空值 如NaN表示为空，除此之外还有NA - na等但默认打错的是NaN\n",
    "#语法如下\n",
    "#cl.DataFrame.dropna(axis=0,how='any',thresh=None,subset=None,inplace=False)\n",
    "#axis 默认是0，表示逢空剔除整行，为1表示逢空值去除整列\n",
    "#how 默认为any如果一行或者一列有一个空就删除 为all表示所有都为空才删除\n",
    "#thresh表示多少非空值的数据才可以保存下来\n",
    "#subset设置想检查的列\n",
    "#inplace如果设置true 将计算得到的值覆盖之前的值并且返回none，修改的是源数据,false表示新开一个空间\n",
    "#isnull（）判断各个单元格是否为空\n",
    "print(cl['math'])\n",
    "print(cl['math'].isnull())"
   ]
  },
  {
   "cell_type": "code",
   "execution_count": 35,
   "metadata": {},
   "outputs": [
    {
     "name": "stdout",
     "output_type": "stream",
     "text": [
      "  englist  math test test2\n",
      "0   first     1   10   100\n",
      "2       3     3    3    ——\n",
      "3    four  four    _     4\n"
     ]
    }
   ],
   "source": [
    "ncl=cl.dropna()\n",
    "print(ncl)\n",
    "#去掉有0的行 默认操作"
   ]
  },
  {
   "cell_type": "code",
   "execution_count": 37,
   "metadata": {},
   "outputs": [
    {
     "name": "stdout",
     "output_type": "stream",
     "text": [
      "  englist  math test test2\n",
      "0   first     1   10   100\n",
      "2       3     3    3    ——\n",
      "3    four  four    _     4\n",
      "4    five     5  NaN  five\n"
     ]
    }
   ],
   "source": [
    "cl.dropna(subset=['math'],inplace=True)\n",
    "print(cl)#删除math列中有空值的行"
   ]
  },
  {
   "cell_type": "code",
   "execution_count": 42,
   "metadata": {},
   "outputs": [
    {
     "name": "stdout",
     "output_type": "stream",
     "text": [
      "  englist  math test test2\n",
      "0   first     1   10   100\n",
      "1  second   NaN    e     w\n",
      "2       3     3    3    ——\n",
      "3    four  four    _     4\n",
      "4    five     5  NaN  five\n",
      "  englist   math   test test2\n",
      "0   first      1     10   100\n",
      "1  second  12345      e     w\n",
      "2       3      3      3    ——\n",
      "3    four   four      _     4\n",
      "4    five      5  12345  five\n"
     ]
    }
   ],
   "source": [
    "#fillna()替换\n",
    "import pandas as pd\n",
    "cl = pd.read_excel('./shuju/clean/clean.xls')\n",
    "print(cl)\n",
    "cl.fillna(12345,inplace=True)\n",
    "print(cl)\n",
    "#直接这样是所有操作 也可以用cl['math'].fillna(同上)进行部分操作\n"
   ]
  },
  {
   "cell_type": "code",
   "execution_count": 48,
   "metadata": {},
   "outputs": [
    {
     "name": "stdout",
     "output_type": "stream",
     "text": [
      "  englist   math   test test2\n",
      "0   first      1     10   100\n",
      "1  second  12345      e     w\n",
      "2       3      3      3    ——\n",
      "3    four   four      _     4\n",
      "4    five      5  12345  five\n"
     ]
    },
    {
     "ename": "TypeError",
     "evalue": "unsupported operand type(s) for +: 'int' and 'str'",
     "output_type": "error",
     "traceback": [
      "\u001b[1;31m---------------------------------------------------------------------------\u001b[0m",
      "\u001b[1;31mTypeError\u001b[0m                                 Traceback (most recent call last)",
      "Cell \u001b[1;32mIn[48], line 4\u001b[0m\n\u001b[0;32m      2\u001b[0m \u001b[38;5;28mprint\u001b[39m(cl)\n\u001b[0;32m      3\u001b[0m cl\u001b[38;5;241m.\u001b[39mfillna(\u001b[38;5;241m0\u001b[39m,inplace\u001b[38;5;241m=\u001b[39m\u001b[38;5;28;01mTrue\u001b[39;00m)\n\u001b[1;32m----> 4\u001b[0m x\u001b[38;5;241m=\u001b[39m\u001b[43mcl\u001b[49m\u001b[43m[\u001b[49m\u001b[38;5;124;43m'\u001b[39;49m\u001b[38;5;124;43mmath\u001b[39;49m\u001b[38;5;124;43m'\u001b[39;49m\u001b[43m]\u001b[49m\u001b[38;5;241;43m.\u001b[39;49m\u001b[43mmean\u001b[49m\u001b[43m(\u001b[49m\u001b[43m)\u001b[49m\n\u001b[0;32m      5\u001b[0m y\u001b[38;5;241m=\u001b[39mcl[\u001b[38;5;124m'\u001b[39m\u001b[38;5;124mmath\u001b[39m\u001b[38;5;124m'\u001b[39m]\u001b[38;5;241m.\u001b[39mmedian()\n\u001b[0;32m      6\u001b[0m z\u001b[38;5;241m=\u001b[39mcl[\u001b[38;5;124m'\u001b[39m\u001b[38;5;124mmath\u001b[39m\u001b[38;5;124m'\u001b[39m]\u001b[38;5;241m.\u001b[39mmode()\n",
      "File \u001b[1;32md:\\anaconda\\envs\\pytorch_gpu\\lib\\site-packages\\pandas\\core\\series.py:6221\u001b[0m, in \u001b[0;36mSeries.mean\u001b[1;34m(self, axis, skipna, numeric_only, **kwargs)\u001b[0m\n\u001b[0;32m   6213\u001b[0m \u001b[38;5;129m@doc\u001b[39m(make_doc(\u001b[38;5;124m\"\u001b[39m\u001b[38;5;124mmean\u001b[39m\u001b[38;5;124m\"\u001b[39m, ndim\u001b[38;5;241m=\u001b[39m\u001b[38;5;241m1\u001b[39m))\n\u001b[0;32m   6214\u001b[0m \u001b[38;5;28;01mdef\u001b[39;00m \u001b[38;5;21mmean\u001b[39m(\n\u001b[0;32m   6215\u001b[0m     \u001b[38;5;28mself\u001b[39m,\n\u001b[1;32m   (...)\u001b[0m\n\u001b[0;32m   6219\u001b[0m     \u001b[38;5;241m*\u001b[39m\u001b[38;5;241m*\u001b[39mkwargs,\n\u001b[0;32m   6220\u001b[0m ):\n\u001b[1;32m-> 6221\u001b[0m     \u001b[38;5;28;01mreturn\u001b[39;00m NDFrame\u001b[38;5;241m.\u001b[39mmean(\u001b[38;5;28mself\u001b[39m, axis, skipna, numeric_only, \u001b[38;5;241m*\u001b[39m\u001b[38;5;241m*\u001b[39mkwargs)\n",
      "File \u001b[1;32md:\\anaconda\\envs\\pytorch_gpu\\lib\\site-packages\\pandas\\core\\generic.py:11984\u001b[0m, in \u001b[0;36mNDFrame.mean\u001b[1;34m(self, axis, skipna, numeric_only, **kwargs)\u001b[0m\n\u001b[0;32m  11977\u001b[0m \u001b[38;5;28;01mdef\u001b[39;00m \u001b[38;5;21mmean\u001b[39m(\n\u001b[0;32m  11978\u001b[0m     \u001b[38;5;28mself\u001b[39m,\n\u001b[0;32m  11979\u001b[0m     axis: Axis \u001b[38;5;241m|\u001b[39m \u001b[38;5;28;01mNone\u001b[39;00m \u001b[38;5;241m=\u001b[39m \u001b[38;5;241m0\u001b[39m,\n\u001b[1;32m   (...)\u001b[0m\n\u001b[0;32m  11982\u001b[0m     \u001b[38;5;241m*\u001b[39m\u001b[38;5;241m*\u001b[39mkwargs,\n\u001b[0;32m  11983\u001b[0m ) \u001b[38;5;241m-\u001b[39m\u001b[38;5;241m>\u001b[39m Series \u001b[38;5;241m|\u001b[39m \u001b[38;5;28mfloat\u001b[39m:\n\u001b[1;32m> 11984\u001b[0m     \u001b[38;5;28;01mreturn\u001b[39;00m \u001b[38;5;28mself\u001b[39m\u001b[38;5;241m.\u001b[39m_stat_function(\n\u001b[0;32m  11985\u001b[0m         \u001b[38;5;124m\"\u001b[39m\u001b[38;5;124mmean\u001b[39m\u001b[38;5;124m\"\u001b[39m, nanops\u001b[38;5;241m.\u001b[39mnanmean, axis, skipna, numeric_only, \u001b[38;5;241m*\u001b[39m\u001b[38;5;241m*\u001b[39mkwargs\n\u001b[0;32m  11986\u001b[0m     )\n",
      "File \u001b[1;32md:\\anaconda\\envs\\pytorch_gpu\\lib\\site-packages\\pandas\\core\\generic.py:11941\u001b[0m, in \u001b[0;36mNDFrame._stat_function\u001b[1;34m(self, name, func, axis, skipna, numeric_only, **kwargs)\u001b[0m\n\u001b[0;32m  11937\u001b[0m nv\u001b[38;5;241m.\u001b[39mvalidate_func(name, (), kwargs)\n\u001b[0;32m  11939\u001b[0m validate_bool_kwarg(skipna, \u001b[38;5;124m\"\u001b[39m\u001b[38;5;124mskipna\u001b[39m\u001b[38;5;124m\"\u001b[39m, none_allowed\u001b[38;5;241m=\u001b[39m\u001b[38;5;28;01mFalse\u001b[39;00m)\n\u001b[1;32m> 11941\u001b[0m \u001b[38;5;28;01mreturn\u001b[39;00m \u001b[38;5;28;43mself\u001b[39;49m\u001b[38;5;241;43m.\u001b[39;49m\u001b[43m_reduce\u001b[49m\u001b[43m(\u001b[49m\n\u001b[0;32m  11942\u001b[0m \u001b[43m    \u001b[49m\u001b[43mfunc\u001b[49m\u001b[43m,\u001b[49m\u001b[43m \u001b[49m\u001b[43mname\u001b[49m\u001b[38;5;241;43m=\u001b[39;49m\u001b[43mname\u001b[49m\u001b[43m,\u001b[49m\u001b[43m \u001b[49m\u001b[43maxis\u001b[49m\u001b[38;5;241;43m=\u001b[39;49m\u001b[43maxis\u001b[49m\u001b[43m,\u001b[49m\u001b[43m \u001b[49m\u001b[43mskipna\u001b[49m\u001b[38;5;241;43m=\u001b[39;49m\u001b[43mskipna\u001b[49m\u001b[43m,\u001b[49m\u001b[43m \u001b[49m\u001b[43mnumeric_only\u001b[49m\u001b[38;5;241;43m=\u001b[39;49m\u001b[43mnumeric_only\u001b[49m\n\u001b[0;32m  11943\u001b[0m \u001b[43m\u001b[49m\u001b[43m)\u001b[49m\n",
      "File \u001b[1;32md:\\anaconda\\envs\\pytorch_gpu\\lib\\site-packages\\pandas\\core\\series.py:6129\u001b[0m, in \u001b[0;36mSeries._reduce\u001b[1;34m(self, op, name, axis, skipna, numeric_only, filter_type, **kwds)\u001b[0m\n\u001b[0;32m   6124\u001b[0m     \u001b[38;5;66;03m# GH#47500 - change to TypeError to match other methods\u001b[39;00m\n\u001b[0;32m   6125\u001b[0m     \u001b[38;5;28;01mraise\u001b[39;00m \u001b[38;5;167;01mTypeError\u001b[39;00m(\n\u001b[0;32m   6126\u001b[0m         \u001b[38;5;124mf\u001b[39m\u001b[38;5;124m\"\u001b[39m\u001b[38;5;124mSeries.\u001b[39m\u001b[38;5;132;01m{\u001b[39;00mname\u001b[38;5;132;01m}\u001b[39;00m\u001b[38;5;124m does not allow \u001b[39m\u001b[38;5;132;01m{\u001b[39;00mkwd_name\u001b[38;5;132;01m}\u001b[39;00m\u001b[38;5;124m=\u001b[39m\u001b[38;5;132;01m{\u001b[39;00mnumeric_only\u001b[38;5;132;01m}\u001b[39;00m\u001b[38;5;124m \u001b[39m\u001b[38;5;124m\"\u001b[39m\n\u001b[0;32m   6127\u001b[0m         \u001b[38;5;124m\"\u001b[39m\u001b[38;5;124mwith non-numeric dtypes.\u001b[39m\u001b[38;5;124m\"\u001b[39m\n\u001b[0;32m   6128\u001b[0m     )\n\u001b[1;32m-> 6129\u001b[0m \u001b[38;5;28;01mreturn\u001b[39;00m op(delegate, skipna\u001b[38;5;241m=\u001b[39mskipna, \u001b[38;5;241m*\u001b[39m\u001b[38;5;241m*\u001b[39mkwds)\n",
      "File \u001b[1;32md:\\anaconda\\envs\\pytorch_gpu\\lib\\site-packages\\pandas\\core\\nanops.py:147\u001b[0m, in \u001b[0;36mbottleneck_switch.__call__.<locals>.f\u001b[1;34m(values, axis, skipna, **kwds)\u001b[0m\n\u001b[0;32m    145\u001b[0m         result \u001b[38;5;241m=\u001b[39m alt(values, axis\u001b[38;5;241m=\u001b[39maxis, skipna\u001b[38;5;241m=\u001b[39mskipna, \u001b[38;5;241m*\u001b[39m\u001b[38;5;241m*\u001b[39mkwds)\n\u001b[0;32m    146\u001b[0m \u001b[38;5;28;01melse\u001b[39;00m:\n\u001b[1;32m--> 147\u001b[0m     result \u001b[38;5;241m=\u001b[39m alt(values, axis\u001b[38;5;241m=\u001b[39maxis, skipna\u001b[38;5;241m=\u001b[39mskipna, \u001b[38;5;241m*\u001b[39m\u001b[38;5;241m*\u001b[39mkwds)\n\u001b[0;32m    149\u001b[0m \u001b[38;5;28;01mreturn\u001b[39;00m result\n",
      "File \u001b[1;32md:\\anaconda\\envs\\pytorch_gpu\\lib\\site-packages\\pandas\\core\\nanops.py:404\u001b[0m, in \u001b[0;36m_datetimelike_compat.<locals>.new_func\u001b[1;34m(values, axis, skipna, mask, **kwargs)\u001b[0m\n\u001b[0;32m    401\u001b[0m \u001b[38;5;28;01mif\u001b[39;00m datetimelike \u001b[38;5;129;01mand\u001b[39;00m mask \u001b[38;5;129;01mis\u001b[39;00m \u001b[38;5;28;01mNone\u001b[39;00m:\n\u001b[0;32m    402\u001b[0m     mask \u001b[38;5;241m=\u001b[39m isna(values)\n\u001b[1;32m--> 404\u001b[0m result \u001b[38;5;241m=\u001b[39m func(values, axis\u001b[38;5;241m=\u001b[39maxis, skipna\u001b[38;5;241m=\u001b[39mskipna, mask\u001b[38;5;241m=\u001b[39mmask, \u001b[38;5;241m*\u001b[39m\u001b[38;5;241m*\u001b[39mkwargs)\n\u001b[0;32m    406\u001b[0m \u001b[38;5;28;01mif\u001b[39;00m datetimelike:\n\u001b[0;32m    407\u001b[0m     result \u001b[38;5;241m=\u001b[39m _wrap_results(result, orig_values\u001b[38;5;241m.\u001b[39mdtype, fill_value\u001b[38;5;241m=\u001b[39miNaT)\n",
      "File \u001b[1;32md:\\anaconda\\envs\\pytorch_gpu\\lib\\site-packages\\pandas\\core\\nanops.py:719\u001b[0m, in \u001b[0;36mnanmean\u001b[1;34m(values, axis, skipna, mask)\u001b[0m\n\u001b[0;32m    716\u001b[0m     dtype_count \u001b[38;5;241m=\u001b[39m dtype\n\u001b[0;32m    718\u001b[0m count \u001b[38;5;241m=\u001b[39m _get_counts(values\u001b[38;5;241m.\u001b[39mshape, mask, axis, dtype\u001b[38;5;241m=\u001b[39mdtype_count)\n\u001b[1;32m--> 719\u001b[0m the_sum \u001b[38;5;241m=\u001b[39m \u001b[43mvalues\u001b[49m\u001b[38;5;241;43m.\u001b[39;49m\u001b[43msum\u001b[49m\u001b[43m(\u001b[49m\u001b[43maxis\u001b[49m\u001b[43m,\u001b[49m\u001b[43m \u001b[49m\u001b[43mdtype\u001b[49m\u001b[38;5;241;43m=\u001b[39;49m\u001b[43mdtype_sum\u001b[49m\u001b[43m)\u001b[49m\n\u001b[0;32m    720\u001b[0m the_sum \u001b[38;5;241m=\u001b[39m _ensure_numeric(the_sum)\n\u001b[0;32m    722\u001b[0m \u001b[38;5;28;01mif\u001b[39;00m axis \u001b[38;5;129;01mis\u001b[39;00m \u001b[38;5;129;01mnot\u001b[39;00m \u001b[38;5;28;01mNone\u001b[39;00m \u001b[38;5;129;01mand\u001b[39;00m \u001b[38;5;28mgetattr\u001b[39m(the_sum, \u001b[38;5;124m\"\u001b[39m\u001b[38;5;124mndim\u001b[39m\u001b[38;5;124m\"\u001b[39m, \u001b[38;5;28;01mFalse\u001b[39;00m):\n",
      "File \u001b[1;32md:\\anaconda\\envs\\pytorch_gpu\\lib\\site-packages\\numpy\\core\\_methods.py:49\u001b[0m, in \u001b[0;36m_sum\u001b[1;34m(a, axis, dtype, out, keepdims, initial, where)\u001b[0m\n\u001b[0;32m     47\u001b[0m \u001b[38;5;28;01mdef\u001b[39;00m \u001b[38;5;21m_sum\u001b[39m(a, axis\u001b[38;5;241m=\u001b[39m\u001b[38;5;28;01mNone\u001b[39;00m, dtype\u001b[38;5;241m=\u001b[39m\u001b[38;5;28;01mNone\u001b[39;00m, out\u001b[38;5;241m=\u001b[39m\u001b[38;5;28;01mNone\u001b[39;00m, keepdims\u001b[38;5;241m=\u001b[39m\u001b[38;5;28;01mFalse\u001b[39;00m,\n\u001b[0;32m     48\u001b[0m          initial\u001b[38;5;241m=\u001b[39m_NoValue, where\u001b[38;5;241m=\u001b[39m\u001b[38;5;28;01mTrue\u001b[39;00m):\n\u001b[1;32m---> 49\u001b[0m     \u001b[38;5;28;01mreturn\u001b[39;00m \u001b[43mumr_sum\u001b[49m\u001b[43m(\u001b[49m\u001b[43ma\u001b[49m\u001b[43m,\u001b[49m\u001b[43m \u001b[49m\u001b[43maxis\u001b[49m\u001b[43m,\u001b[49m\u001b[43m \u001b[49m\u001b[43mdtype\u001b[49m\u001b[43m,\u001b[49m\u001b[43m \u001b[49m\u001b[43mout\u001b[49m\u001b[43m,\u001b[49m\u001b[43m \u001b[49m\u001b[43mkeepdims\u001b[49m\u001b[43m,\u001b[49m\u001b[43m \u001b[49m\u001b[43minitial\u001b[49m\u001b[43m,\u001b[49m\u001b[43m \u001b[49m\u001b[43mwhere\u001b[49m\u001b[43m)\u001b[49m\n",
      "\u001b[1;31mTypeError\u001b[0m: unsupported operand type(s) for +: 'int' and 'str'"
     ]
    }
   ],
   "source": [
    "#mean（），median（），mode()均值，中位数，众数\n",
    "print(cl)\n",
    "cl.fillna(0,inplace=True)\n",
    "x=cl['math'].mean()\n",
    "y=cl['math'].median()\n",
    "z=cl['math'].mode()\n",
    "\n",
    "print(x,y,z)"
   ]
  },
  {
   "cell_type": "code",
   "execution_count": 54,
   "metadata": {},
   "outputs": [
    {
     "name": "stdout",
     "output_type": "stream",
     "text": [
      "  englist   math   test test2\n",
      "0   first      1     10   100\n",
      "1  second  12345      e     w\n",
      "2       3      3      3    ——\n",
      "3    four   3088      _     4\n",
      "4    five      5  12345  five 3088.4 5.0 1\n"
     ]
    }
   ],
   "source": [
    "#to_numeric是转换为数字pd.to_numeric 提供了几个参数来控制转换过程：\n",
    "#arg: 输入数据，可以是列表、数组、Series等。\n",
    "#errors: 控制当转换出错时如何处理。它有三个选项：\n",
    "#'raise': 默认选项，如果存在任何转换错误，会抛出一个异常。\n",
    "#'coerce': 如果存在转换错误，则将出错的部分设置为 NaN。\n",
    "#'ignore': 如果存在转换错误，会忽略错误，返回原始数据。这可能会导致输出仍然包含非数值数据。\n",
    "#downcast: 尝试将数据类型下转为更节省内存的类型。例如，从 float64 到 float32，或从 int64 到 int32。它有几个选项：\n",
    "#None: 默认选项，不进行下转。\n",
    "#'integer': 尝试下转为整数。\n",
    "#'signed': 尝试下转为有符号整数。\n",
    "#'unsigned': 尝试下转为无符号整数。\n",
    "#'float': 尝试下转为浮点数。\n",
    "\n",
    "#还有to_datetime\n",
    "\n",
    "cl['math'] = pd.to_numeric(cl['math'],errors='coerce')\n",
    "x = cl['math'].mean()\n",
    "y = cl['math'].median()\n",
    "z = cl['math'].mode()[0]  # mode() 返回的是一个Series，取第一个值作为众数\n",
    "\n",
    "# 步骤3：使用均值填充NaN值\n",
    "cl['math'].fillna(x, inplace=True)\n",
    "\n",
    "print(cl,x,y,z)"
   ]
  },
  {
   "cell_type": "code",
   "execution_count": 56,
   "metadata": {},
   "outputs": [
    {
     "name": "stdout",
     "output_type": "stream",
     "text": [
      "  name  age\n",
      "0    a   50\n",
      "1    b   40\n",
      "2    c   30\n"
     ]
    }
   ],
   "source": [
    "person={\n",
    "    \"name\": ['a','b','c'],\n",
    "    \"age\":[50,40,60]\n",
    "}\n",
    "df = pd.DataFrame(person)\n",
    "df.loc[2,'age']=30 #修改age中2对应的数值为30 默认从0开始\n",
    "print(df)"
   ]
  },
  {
   "cell_type": "code",
   "execution_count": 4,
   "metadata": {},
   "outputs": [
    {
     "name": "stdout",
     "output_type": "stream",
     "text": [
      "0    False\n",
      "1    False\n",
      "2    False\n",
      "3     True\n",
      "dtype: bool\n",
      "  name  age\n",
      "0    a   50\n",
      "1    b   40\n",
      "2    c   60\n"
     ]
    }
   ],
   "source": [
    "#可以用if条件判断来修改 后续会用到可以自己试试\n",
    "import pandas as pd\n",
    "person={\n",
    "    \"name\": ['a','b','c','a'],\n",
    "    \"age\":[50,40,60,50]\n",
    "}\n",
    "#数据重复 duplicated()和drop_duplicated()\n",
    "df=pd.DataFrame(person)\n",
    "print(df.duplicated())#判断是否重复\n",
    "df.drop_duplicates(inplace=True)\n",
    "print(df)#删掉重复的"
   ]
  }
 ],
 "metadata": {
  "kernelspec": {
   "display_name": "pytorch_gpu",
   "language": "python",
   "name": "python3"
  },
  "language_info": {
   "codemirror_mode": {
    "name": "ipython",
    "version": 3
   },
   "file_extension": ".py",
   "mimetype": "text/x-python",
   "name": "python",
   "nbconvert_exporter": "python",
   "pygments_lexer": "ipython3",
   "version": "3.9.18"
  }
 },
 "nbformat": 4,
 "nbformat_minor": 2
}
